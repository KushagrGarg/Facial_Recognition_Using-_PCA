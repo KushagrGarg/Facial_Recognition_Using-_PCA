{
 "cells": [
  {
   "cell_type": "code",
   "execution_count": 79,
   "metadata": {},
   "outputs": [],
   "source": [
    "#Making Necessary imports\n",
    "#http://ijarcet.org/wp-content/uploads/IJARCET-VOL-1-ISSUE-9-135-139.pdf\n",
    "import numpy as np\n",
    "import cv2\n",
    "from matplotlib import pyplot as plt"
   ]
  },
  {
   "cell_type": "code",
   "execution_count": 80,
   "metadata": {
    "scrolled": true
   },
   "outputs": [],
   "source": [
    "#STEP1: Convert the face images to face vectors\n",
    "image_width = 92\n",
    "image_length = 112\n",
    "total_pixels = image_width*image_length\n",
    "\n",
    "images = 6\n",
    "variants = 38\n",
    "total_images = images*variants\n",
    "face_vector = []\n",
    "for i in range(0, total_images):\n",
    "    face_image = cv2.imread(\"data/s\" + str(i//6+1) + \"/\" + str(i%6+1) + \".pgm\",0)\n",
    "    face_image = face_image.reshape(total_pixels,)\n",
    "    face_vector.append(face_image)\n",
    "face_vector = np.asarray(face_vector)\n",
    "face_vector = face_vector.transpose()"
   ]
  },
  {
   "cell_type": "code",
   "execution_count": 81,
   "metadata": {},
   "outputs": [],
   "source": [
    "#STEP2: Normalize the face vectors by calculating the average face vector and subtracting it from each vector\n",
    "avg_face_vector = face_vector.mean(axis=1)\n",
    "avg_face_vector = avg_face_vector.reshape(face_vector.shape[0], 1)\n",
    "normalized_face_vector = face_vector - avg_face_vector"
   ]
  },
  {
   "cell_type": "code",
   "execution_count": 82,
   "metadata": {},
   "outputs": [],
   "source": [
    "covariance_matrix = np.cov(np.transpose(normalized_face_vector))"
   ]
  },
  {
   "cell_type": "code",
   "execution_count": 83,
   "metadata": {},
   "outputs": [],
   "source": [
    "#STEP4: Calculate Eigen Vectors\n",
    "eigen_values, eigen_vectors = np.linalg.eig(covariance_matrix)"
   ]
  },
  {
   "cell_type": "code",
   "execution_count": 84,
   "metadata": {},
   "outputs": [],
   "source": [
    "#Calculating Accuracy of prediction for different Vlaues of K\n",
    "accuracy = []\n",
    "val = []\n",
    "for a in range(1,101):\n",
    "    k = a * 5\n",
    "    k_eigen_vectors = eigen_vectors[0:k, :]\n",
    "    eigen_faces = k_eigen_vectors.dot(np.transpose(normalized_face_vector))\n",
    "    weights = np.transpose(normalized_face_vector).dot(np.transpose(eigen_faces))\n",
    "    count = 0\n",
    "    for i in range(4*38):\n",
    "        test_img = cv2.imread(\"data/s\" + str(i//4+1) + \"/\" + str(i%4+7) + \".pgm\",0)\n",
    "        test_img = test_img.reshape(total_pixels, 1)\n",
    "        test_normalized_face_vector = test_img - avg_face_vector\n",
    "        test_weight = np.transpose(test_normalized_face_vector).dot(np.transpose(eigen_faces))\n",
    "        index =  np.argmin(np.linalg.norm(test_weight - weights, axis=1))\n",
    "        val.append(index)\n",
    "        index = 1 + index//6\n",
    "        if(i//4+1 == index):\n",
    "            count = count+1\n",
    "    acc = count/152\n",
    "    accuracy.append(acc)\n",
    "max_val = max(val)"
   ]
  },
  {
   "cell_type": "code",
   "execution_count": 85,
   "metadata": {},
   "outputs": [
    {
     "data": {
      "text/plain": [
       "[<matplotlib.lines.Line2D at 0x227da49e7f0>]"
      ]
     },
     "execution_count": 85,
     "metadata": {},
     "output_type": "execute_result"
    },
    {
     "data": {
      "image/png": "[encoded data removed]",
      "text/plain": [
       "<Figure size 432x288 with 1 Axes>"
      ]
     },
     "metadata": {
      "needs_background": "light"
     },
     "output_type": "display_data"
    }
   ],
   "source": [
    "accuracy = np.array(accuracy)\n",
    "x = np.arange(1,101)\n",
    "x = 5 * x\n",
    "plt.title(\"Accuracy Curve For Different Values of K\")\n",
    "plt.xlabel(\"K\")\n",
    "plt.ylabel(\"Accuracy\")\n",
    "plt.plot(x,accuracy)"
   ]
  },
  {
   "cell_type": "code",
   "execution_count": 86,
   "metadata": {},
   "outputs": [
    {
     "name": "stdout",
     "output_type": "stream",
     "text": [
      "Maximum Accuracy Achieved for k = 80\n",
      "Maximum Accuracy = 0.9407894736842105\n"
     ]
    }
   ],
   "source": [
    "max_acc = max(accuracy)\n",
    "max_acc_k = np.argmax(accuracy)*5+5\n",
    "print(\"Maximum Accuracy Achieved for k =\",max_acc_k)\n",
    "print(\"Maximum Accuracy =\",max_acc)"
   ]
  },
  {
   "cell_type": "code",
   "execution_count": 87,
   "metadata": {},
   "outputs": [
    {
     "name": "stdout",
     "output_type": "stream",
     "text": [
      "Performing Imposter Detection on images of s39 and s40\n",
      "s39/1.pgm     ---  Given Image is Imposter\n",
      "s39/2.pgm     ---  Given Image is Imposter\n",
      "s39/3.pgm     ---  Given Image is Imposter\n",
      "s39/4.pgm     ---  Given Image is Imposter\n",
      "s39/5.pgm     ---  Given Image is Imposter\n",
      "s39/6.pgm     ---  Given Image is Imposter\n",
      "s39/7.pgm     ---  Given Image is Imposter\n",
      "s39/8.pgm     ---  Given Image is Imposter\n",
      "s39/9.pgm     ---  Given Image is Imposter\n",
      "s39/10.pgm     ---  Given Image is Imposter\n",
      "s40/1.pgm     ---  Given Image is Imposter\n",
      "s40/2.pgm     ---  Given Image is Imposter\n",
      "s40/3.pgm     ---  Given Image is Imposter\n",
      "s40/4.pgm     ---  Given Image is Imposter\n",
      "s40/5.pgm     ---  Given Image is Imposter\n",
      "s40/6.pgm     ---  Given Image is Imposter\n",
      "s40/7.pgm     ---  Given Image is Imposter\n",
      "s40/8.pgm     ---  Given Image is Imposter\n",
      "s40/9.pgm     ---  Given Image is Imposter\n",
      "s40/10.pgm     ---  Given Image is Imposter\n"
     ]
    }
   ],
   "source": [
    "#Imposter Detection for K=80\n",
    "k = 80\n",
    "print(\"Performing Imposter Detection on images of s39 and s40\")\n",
    "k_eigen_vectors = eigen_vectors[0:k, :]\n",
    "eigen_faces = k_eigen_vectors.dot(np.transpose(normalized_face_vector))\n",
    "weights = np.transpose(normalized_face_vector).dot(np.transpose(eigen_faces))\n",
    "count = 0\n",
    "for i in range(10*2):\n",
    "    test_img = cv2.imread(\"data/s\" + str(i//10+39) + \"/\" + str(i%10+1) + \".pgm\",0)\n",
    "    test_img = test_img.reshape(total_pixels, 1)\n",
    "    test_normalized_face_vector = test_img - avg_face_vector\n",
    "    test_weight = np.transpose(test_normalized_face_vector).dot(np.transpose(eigen_faces))\n",
    "    index =  np.argmin(np.linalg.norm(test_weight - weights, axis=1))\n",
    "    if(index < 228):\n",
    "        print(\"s\" + str(i//10+39) + \"/\" + str(i%10+1) + \".pgm     ---  Given Image is Imposter\")"
   ]
  },
  {
   "cell_type": "code",
   "execution_count": null,
   "metadata": {},
   "outputs": [],
   "source": []
  }
 ],
 "metadata": {
  "kernelspec": {
   "display_name": "Python 3",
   "language": "python",
   "name": "python3"
  },
  "language_info": {
   "codemirror_mode": {
    "name": "ipython",
    "version": 3
   },
   "file_extension": ".py",
   "mimetype": "text/x-python",
   "name": "python",
   "nbconvert_exporter": "python",
   "pygments_lexer": "ipython3",
   "version": "3.8.3"
  }
 },
 "nbformat": 4,
 "nbformat_minor": 4
}
